{
 "cells": [
  {
   "cell_type": "code",
   "execution_count": 1,
   "metadata": {},
   "outputs": [
    {
     "name": "stdout",
     "output_type": "stream",
     "text": [
      "Senior Solutions Engineer\n",
      "IT Systems Implementation and Support Intern\n",
      "Data Science Fellowship\n",
      "Product Management Fellow\n",
      "Software Engineering Fellow\n",
      "Junior Java Developer | Entry-level Java / J2EE or JEE Developer\n",
      "Experienced Full Stack Developer - Improving Patient Outcomes!!\n",
      "Implementer for Software Company\n",
      "Part Time Accounting Clerk\n",
      "Solutions Architect (.NET Developer)\n",
      "Senior Project Manager for Software Company\n",
      "Business Systems Analyst\n",
      "Product Owner\n",
      "Sr. Software Developer (Java & Oracle)\n",
      "Draftsman for Scaffold Projects\n",
      "Senior Software Engineer\n",
      "Software Development Engineer I\n",
      "IT Solutions Consultant\n",
      "Entry Level Software Tester\n",
      "Seeking Perl & Search engine expert\n",
      "C# .Net Developer INTERN\n",
      "Manager, IT Security\n",
      "Business Analyst\n",
      "GAN coder + architect\n",
      "Become DevOps Engineer and earn $80K+ in as little as 6 months\n",
      "AWS Sysadmin/Ops & Security Analyst\n",
      "Senior .Net Developer\n",
      "Python/Django Programmer\n",
      "Software Development Intern\n",
      "QA Lead\n",
      "Senior Software Developer\n",
      "Data Integration Consultant\n",
      "IT SOX AUDITOR\n",
      "Automotive Data Specialist\n",
      "Information Security Analyst\n",
      "IT Project Manager\n",
      "Director of Research and Evaluation\n",
      "Software Development Engineer I\n",
      "Use your PC or MAC to test video chat apps (remote) and make some $$\n",
      "BA/QA(BUSINESS ANALYST/QUALITY ANALYST) TRAINING & 100% JOB PLACEMENT\n",
      "Senior Python Developer\n",
      "Senior Application Developer\n",
      "Full-Stack Developer\n",
      "Data Science Fellowship\n",
      "Product Management Fellow\n",
      "Software Engineering Fellow\n",
      "Sr. DevOps Engineer (AWS / EC2 Required) - Contract\n",
      "Senior Server-Side Java Developer (with AWS)\n",
      "Python Developers\n",
      "C# Developer\n",
      "SQL Server Developer/Analyst\n",
      "BA/QA(BUSINESS ANALYST/QUALITY ANALYST) TRAINING & 100% JOB PLACEMENT\n",
      "Healthcare Data Analyst\n",
      "Senior Implementation Consultant\n",
      "Senior Test Automation Engineer\n",
      "Senior Software Engineer\n",
      "Software Engineer\n",
      "Analyst - PTNS Operations Lead\n",
      "React Native developer with JAVA experience\n",
      "Node.js Software Engineer\n",
      "BA/QA(BUSINESS ANALYST/QUALITY ANALYST) TRAINING & 100% JOB PLACEMENT\n"
     ]
    }
   ],
   "source": [
    "from bs4 import BeautifulSoup\n",
    "import requests\n",
    "\n",
    "url = \"https://boston.craigslist.org/search/sof\"\n",
    "\n",
    "# Getting the webpage, creating a Response object.\n",
    "response = requests.get(url)\n",
    "\n",
    "# Extracting the source code of the page.\n",
    "data = response.text\n",
    "\n",
    "# Passing the source code to Beautiful Soup to create a BeautifulSoup object for it.\n",
    "soup = BeautifulSoup(data, 'lxml')\n",
    "\n",
    "# Extracting all the <a> tags whose class name is 'result-title' into a list.\n",
    "titles = soup.findAll('a', {'class': 'result-title'})\n",
    "\n",
    "# Extracting text from the the <a> tags, i.e. class titles.\n",
    "for title in titles:\n",
    "    print(title.text)\n"
   ]
  },
  {
   "cell_type": "code",
   "execution_count": null,
   "metadata": {},
   "outputs": [],
   "source": [
    "\n"
   ]
  },
  {
   "cell_type": "code",
   "execution_count": null,
   "metadata": {},
   "outputs": [],
   "source": []
  }
 ],
 "metadata": {
  "kernelspec": {
   "display_name": "Python 3",
   "language": "python",
   "name": "python3"
  },
  "language_info": {
   "codemirror_mode": {
    "name": "ipython",
    "version": 3
   },
   "file_extension": ".py",
   "mimetype": "text/x-python",
   "name": "python",
   "nbconvert_exporter": "python",
   "pygments_lexer": "ipython3",
   "version": "3.7.1"
  }
 },
 "nbformat": 4,
 "nbformat_minor": 2
}
