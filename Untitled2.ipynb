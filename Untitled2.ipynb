{
 "cells": [
  {
   "cell_type": "code",
   "execution_count": 9,
   "metadata": {},
   "outputs": [
    {
     "name": "stdout",
     "output_type": "stream",
     "text": [
      "Francotirador\n",
      "@franco_record\n",
      "Nadie como El Francotirador. Cual superhéroe, guarda celosamente su identidad para obtener la información que nadie se atreve a contar.\n",
      "La semana pasada les conté que mis amigos del Guadalajara ya estaban pensando en Luis Miguel Salvador como opción de directivo, en caso de que Mariano Varela y Tomás Boy no lograran levantar el barco y clasificaran a la Liguilla. Pues bien, el exdirigente de Rayados, no tardó nadita en salir a decir que estaba dispuesto a escuchar a los Rojiblancos.\n",
      "Sin embargo, mis fuentes tapatías me contaron que los dirigentes del Rebaño Sagrado (que en un inicio estaban muy entusiasmados con Luis Miguel Salvador), casi se van de espaldas cuando se enteraron cuánto está cobrando el hoy director deportivo de los Venados de Mérida, al grado de que ya empezaron a mirar para otro lado, pues me diiicen que ahora comenzó a tomar fuerza el nombre de Fernando Quirarte, quien es (más económico) del agrado del 'Tío' Higuera.\n",
      "Y es que como les decía, Luis Miguel Salvador tiene el tabulador por las nubes, pues considera que tiene las credenciales suficientes para cobrar lo que cobra, pues logró que Rayados ganara varios títulos durante su etapa en el club, y hoy tiene al equipo yucateco en las Semifinales del Ascenso MX, no sin antes haberlos salvado del descenso.\n",
      "En fin, ya les estaré informando cómo se siguen moviendo las aguas en Chivas.\n",
      "TAMBIÉN TE PUEDE INTERESAR: VARELA CORRE PELIGRO SI TOMÁS BOY FRACASA CON CHIVAS\n",
      "Chivas, 'limosneros y con garrote'\n",
      "Para comentar el partido entre Chivas y Puebla, la producción de Chivas TV, invitó al Pato Araujo para tratar de aprovechar la popularidad que obtuvo en el Exatlón.\n",
      "Me diiicen que Araujo aceptó, aunque pidió dos boletos de avión: uno para él y otro para su novia, para que así ambos pudieran viajar de Puebla a Guadalajara.\n",
      "Peeero ¿qué creen? que mis amigos del Rebaño Sagrado se aventaron una perlita, pues le respondieron que mejor no, ya que no hay presupuesto para invitados en Chivas TV. Por ello, los tapatíos mejor recurrieron al Chore Mejía, quien trabaja para el club, y así les salió gratis el comentarista.\n",
      "Ahora sí que como dicen en mi pueblo: limosneros y con garrote.\n",
      "Divorcio a la vista en Coapa\n",
      "En Coapa comienzan a escucharse 'Las Golondrinas' hacia Jérémy Ménez, y el técnico Miguel Herrera empieza a decirle 'Au revoir' (adiós en francés), no sólo porque el dueño Emilio Azcárraga está harto de que en las Águilas se 'mantenga' a un jugador de cristal y poco confiable, sino porque ahora resulta que el galo, en su inconformidad por no ser titular, ha evidenciado una actitud pusilánime, y lo peor, grosera con el Piojo y la directiva comandada por Santiago Baños, dándose ya incluso discusiones subidas de tono.\n",
      "Por lo pronto, y a pesar de las ausencias, Ménez no fue considerado dentro de la convocatoria del último partido contra Toluca, y ni siquiera fue parte de las prácticas del equipo desde dos días antes del duelo en el Infierno. Su nombre está cantado para la lista de transferibles de este verano, y tras andar con un paso con más pena que gloria por el Nido, no hay intención de que se haga efectiva una extensión de contrato hasta diciembre. Por ahora, es difícil que vuelva a ser tomado en cuenta, y más con su 'rebeldía'. Oh là là.\n",
      "Piojo tiene fan choricero\n",
      "Este fin de semana me di una vueltecita por tierras choriceras, y adivinen ¿quién estuvo en primera fila con una sonrisa de oreja a oreja en el show que protagonizó el Piojo en plena conferencia de prensa donde se quejó del VAR y de Arturo Brizio?... pues nada más y nada menos que el presidente deportivo de los Diablos Rojos, Francisco Suinaga, quien es fan de las 'ponencias' de Miguel Herrera. Recuerden que el torneo anterior, el directivo escarlata también disfrutó de lo lindo.\n",
      "Lo raro es que cuando fue el turno de su entrenador, Ricardo La Volpe, Suinaga abandonó en silencio la sala. La verdad es que ya es muy raro ver a los presidentes de los clubes bajar a las conferencias; sin embargo, el de Toluca no se pierde por nada las del Piojo ¿Cómo ven?\n",
      "Arman cuento chino por 'regañiza'\n",
      "Llegamos con mis amigos de Pumas, donde la cosa se puso sabrosa el pasado fin de semana, pues ya todos vimos en el video que se hizo viral de cómo Rodrigo Ares de Parga se puso como chancla a Leandro Augusto, quedando en evidencia los modos del Presi.\n",
      "El chiste, mis amigos, es que la gente del club no tardó nadita en comenzar a hacer algunas llamadas a la prensa 'amiga' para pedir de favor que no se tocara más el tema del video, de hecho, intentaban justificar los gritos del Presi, al asegurar que sólo se trataba de un enfado que tenía por el mal uso del VAR durante el partido ante Cruz Azul, y que por mera casualidad parecía que estaba regañando a Leandro.\n",
      "No está en mí, queridos amigos, decir qué medios cedieron ante la petición de los Felinos, pero ahora sí que juzgue usted: cheque quiénes subieron primero a sus redes sociales el video de la regañiza y hoy ya no lo tienen, revisen qué periódicos o programas de TV hoy ya no dicen nada del altercado en el Azteca. Ahí se las dejo...\n",
      "Ares de Parga explota contra Leandro Augusto\n",
      "Qué más le falta a #Pumas pic.twitter.com/A9pGiEo5Sb\n",
      "— Danie10 (@daniebloo) 21 de abril de 2019\n",
      "Gol de Pumas 'prendió' a la Rebel...\n",
      "Ahora que me di una vuelta por el mítico Estadio Azteca para ver el partido entre Cruz Azul y Pumas, tremenda sorpresa me llevé en el segundo tiempo tras el tanto de los universitarios. Y es que minutos antes del gol, el ambiente y la moral de la Rebel se encontraba por los suelos, 'nomás' de ver cómo su equipo no daba una contra La Máquina.\n",
      "Sin embargo, todo cambió con el gol de Pablo Barrera, pues como por acto de magia los ánimos se elevaron en la cabecera sur del estadio donde al mismo tiempo emanaba un olor a petate quemado. Sin duda alguna, deben ponerse más abusados los cuerpos de seguridad y los filtros en el estadio. No vaya a ser que lo agarren de antro. Yo digo.\n",
      "Reivindicación con la mujer\n",
      "Ya por último, les cuento que en los próximos días se integra a Televisa Deportes nuestra amiga Valeria Marín, quien hace unos días hizo pública su salida de Fox Sports. Me cuentan que actualmente la intención de Televisa es respaldar muuucho el tema de la mujer en el deporte, por ello contrataron a Marín para que haga en México lo que hace Adriana Monsalve en Estados Unidos con Univisión.\n",
      "Digamos que de algún modo ahora buscan reivindicarse con la mujer, ya saben que hace algunos años en TD sólo utilizaban a las mujeres como objeto de deseo, pero hoy por fin ya les darán su lugar. En fin, mucho éxito para Valeria en esta nueva etapa.\n",
      "GRUPO EDITORIAL NOTMUSA Copyright ©  2019\n"
     ]
    }
   ],
   "source": [
    "from bs4 import BeautifulSoup\n",
    "import requests\n",
    "\n",
    "url = \"http://www.record.com.mx/columnistas-francotirador/quirarte-seria-directivo-de-chivas-por-barato\"\n",
    "\n",
    "# Getting the webpage, creating a Response object.\n",
    "response = requests.get(url)\n",
    "\n",
    "# Extracting the source code of the page.\n",
    "data = response.text\n",
    "\n",
    "# Passing the source code to Beautiful Soup to create a BeautifulSoup object for it.\n",
    "soup = BeautifulSoup(data, 'lxml')\n",
    "\n",
    "# Extracting all the <a> tags whose class name is 'result-title' into a list.\n",
    "titles = soup.findAll('p')\n",
    "\n",
    "# Extracting text from the the <a> tags, i.e. class titles.\n",
    "for title in titles:\n",
    "    print(title.text)\n"
   ]
  },
  {
   "cell_type": "code",
   "execution_count": null,
   "metadata": {},
   "outputs": [],
   "source": []
  }
 ],
 "metadata": {
  "kernelspec": {
   "display_name": "Python 3",
   "language": "python",
   "name": "python3"
  },
  "language_info": {
   "codemirror_mode": {
    "name": "ipython",
    "version": 3
   },
   "file_extension": ".py",
   "mimetype": "text/x-python",
   "name": "python",
   "nbconvert_exporter": "python",
   "pygments_lexer": "ipython3",
   "version": "3.7.1"
  }
 },
 "nbformat": 4,
 "nbformat_minor": 2
}
