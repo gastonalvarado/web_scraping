{
 "cells": [
  {
   "cell_type": "code",
   "execution_count": 2,
   "metadata": {},
   "outputs": [
    {
     "name": "stdout",
     "output_type": "stream",
     "text": [
      "Francotirador\n",
      "David Medrano\n",
      "Sopitas\n",
      "Alejandro Molina Bortoni\n",
      "David Faitelson\n",
      "Luis García\n",
      "Rubén Rodríguez\n",
      "Christian Martinoli\n",
      "Leonardo Riaño\n",
      "Carlos Ponce de León\n",
      "Alberto Bernard\n",
      "Joshúa Maya \n",
      "Luis Castillo \n",
      "Alfonso Morales \n",
      "Ignacio Suárez\n",
      "Felipe Morales\n",
      "Felipe Ramos Rizo\n",
      "Jonatan Peña\n",
      "Diana Pérez\n"
     ]
    }
   ],
   "source": [
    "from bs4 import BeautifulSoup\n",
    "import requests\n",
    "\n",
    "url = \"http://www.record.com.mx/columnistas\"\n",
    "\n",
    "# Getting the webpage, creating a Response object.\n",
    "response = requests.get(url)\n",
    "\n",
    "# Extracting the source code of the page.\n",
    "data = response.text\n",
    "\n",
    "# Passing the source code to Beautiful Soup to create a BeautifulSoup object for it.\n",
    "soup = BeautifulSoup(data, 'lxml')\n",
    "\n",
    "# Extracting all the <a> tags whose class name is 'result-title' into a list.\n",
    "titles = soup.findAll('div', {'class': 'nombre'})\n",
    "\n",
    "# Extracting text from the the <a> tags, i.e. class titles.\n",
    "for title in titles:\n",
    "    print(title.text)\n"
   ]
  },
  {
   "cell_type": "code",
   "execution_count": null,
   "metadata": {},
   "outputs": [],
   "source": []
  },
  {
   "cell_type": "code",
   "execution_count": null,
   "metadata": {},
   "outputs": [],
   "source": []
  }
 ],
 "metadata": {
  "kernelspec": {
   "display_name": "Python 3",
   "language": "python",
   "name": "python3"
  },
  "language_info": {
   "codemirror_mode": {
    "name": "ipython",
    "version": 3
   },
   "file_extension": ".py",
   "mimetype": "text/x-python",
   "name": "python",
   "nbconvert_exporter": "python",
   "pygments_lexer": "ipython3",
   "version": "3.7.1"
  }
 },
 "nbformat": 4,
 "nbformat_minor": 2
}
